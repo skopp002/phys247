{
 "cells": [
  {
   "cell_type": "markdown",
   "metadata": {},
   "source": [
    "# Homework 2\n",
    "When the requirement is to infer or predict the pattern of completely independent random events in a fixed time or space or area or volume, the probabality distribution that applies is Poisson. We model the probability mass function with Poisson which means, we in this case means, determining the probability of a specific count of tweets.\n",
    "\n",
    "### a)\n"
   ]
  },
  {
   "cell_type": "code",
   "execution_count": 45,
   "metadata": {},
   "outputs": [
    {
     "name": "stdout",
     "output_type": "stream",
     "text": [
      "    week  count\n",
      "0      1   39.0\n",
      "1      2   46.0\n",
      "2      3   41.0\n",
      "3      4   42.0\n",
      "4      5   31.0\n",
      "5      6   44.0\n",
      "6      7   33.0\n",
      "7      8   42.0\n",
      "8      9   31.0\n",
      "9     10   28.0\n",
      "10    11   36.0\n",
      "11    12   40.0\n",
      "12    13   33.0\n",
      "13    14   45.0\n",
      "14    15   42.0\n",
      "15    16   28.0\n",
      "16    17   34.0\n",
      "17    18   42.0\n",
      "18    19   45.0\n",
      "19    20   37.0\n",
      "20    21   39.0\n",
      "21    22   35.0\n",
      "22    23   28.0\n",
      "23    24   30.0\n",
      "24    25   24.0\n",
      "25    26   40.0\n",
      "26    27   22.0\n",
      "27    28   46.0\n",
      "28    29   37.0\n",
      "29    30   37.0\n",
      "30    31   38.0\n",
      "31    32   36.0\n",
      "32    33   41.0\n",
      "33    34   38.0\n",
      "34    35   42.0\n",
      "35    36   43.0\n",
      "36    37   30.0\n",
      "37    38   45.0\n",
      "38    39   46.0\n",
      "39    40   51.0\n",
      "40    41   55.0\n",
      "41    42   36.0\n",
      "42    43   42.0\n",
      "43    44   44.0\n",
      "44    45   36.0\n",
      "45    46   44.0\n",
      "46    47   41.0\n",
      "47    48   38.0\n",
      "48    49   38.0\n",
      "49    50   56.0\n",
      "50    51   39.0\n",
      "51    52   40.0\n",
      "Mean number of counts is  38.76923076923077\n"
     ]
    }
   ],
   "source": [
    "import numpy as np\n",
    "import matplotlib.pylab as plt\n",
    "import csv\n",
    "import pandas as pd\n",
    "\n",
    "twdf = pd.read_csv(\"tweet_counts.csv\",header='infer')\n",
    "print(twdf)\n",
    "##Pandas is an abstraction on numpy arrays. It uses numpy ndarrays to store the data. \n",
    "#mean_tweet_counts = np.mean(twdf[\"count\"])\n",
    "mean_tweet_counts = twdf[\"count\"].mean()\n",
    "print(\"Mean number of counts is \", mean_tweet_counts)   "
   ]
  },
  {
   "cell_type": "markdown",
   "metadata": {},
   "source": [
    "#### The Mean number of counts is  38.76923076923077"
   ]
  },
  {
   "cell_type": "markdown",
   "metadata": {},
   "source": [
    "### b) Using pyplot bar to show the tweet trends"
   ]
  },
  {
   "cell_type": "code",
   "execution_count": 46,
   "metadata": {},
   "outputs": [
    {
     "data": {
      "image/png": "[encoded data removed]",
      "text/plain": [
       "<Figure size 1080x216 with 1 Axes>"
      ]
     },
     "metadata": {
      "needs_background": "light"
     },
     "output_type": "display_data"
    }
   ],
   "source": [
    "plt.figure(figsize=(15,3))\n",
    "plt.bar(np.arange(1,53),twdf[\"count\"], color='blue',edgecolor='black')\n",
    "#y_mean = [mean_tweet_counts] * len(twdf[\"count\"].size())\n",
    "plt.axhline(mean_tweet_counts, label='Mean', linestyle='--', color='r')\n",
    "plt.xlim(0,53)\n",
    "plt.xlabel('Week',fontsize=15)\n",
    "plt.ylabel('tweet counts',fontsize=15)\n",
    "plt.show()"
   ]
  },
  {
   "cell_type": "markdown",
   "metadata": {},
   "source": [
    "Looking at the chart, it does seem like Bob's tweeting habits have changed around week 30. However, lets start out assuming there is no change. With that, there is a constant λ "
   ]
  },
  {
   "cell_type": "code",
   "execution_count": 47,
   "metadata": {},
   "outputs": [],
   "source": [
    "#lets define the Poisson distribution method. \n",
    "# This method defines the likelihood function for Poisson Distribution\n",
    "Poisson=lambda k,λ:(λ**k)*np.exp(-λ)/np.math.factorial(k)\n",
    "Poisson=np.vectorize(Poisson)"
   ]
  },
  {
   "cell_type": "code",
   "execution_count": 123,
   "metadata": {},
   "outputs": [],
   "source": [
    "# plt.figure(figsize=(8,5))\n",
    "# plt.hist(twdf[\"count\"], density=True)\n",
    "# plt.plot(twdf[\"week\"],Poisson(twdf[\"count\"],mean_tweet_counts), c='r', marker='o')\n",
    "# plt.ylabel('Probability of #tweets',fontsize=15)\n",
    "# plt.xlabel('tweets',fontsize=15)\n",
    "# plt.show()"
   ]
  },
  {
   "cell_type": "code",
   "execution_count": 48,
   "metadata": {},
   "outputs": [],
   "source": [
    "#This method provides the prior for Poisson Distribution. \n",
    "Exponential= lambda λ,α:α*np.exp(-α*λ)\n",
    "\n",
    "#λ*np.exp(-λ*α)\n",
    "Exponential=np.vectorize(Exponential)"
   ]
  },
  {
   "cell_type": "markdown",
   "metadata": {},
   "source": [
    "### c)"
   ]
  },
  {
   "cell_type": "markdown",
   "metadata": {},
   "source": [
    "λ is a constant representing an expected value of number of tweets in a week. But this does not assume any prior knowledge. We are supposed to determine posterior probability which needs to take into account our beliefs and known information. The priori is what we expect to be an average tweet per week count for an average twitter user. \n",
    "\n",
    "If we break down the probability into smaller time windows and every minute either has a tweet or not, λ can also be understood as below\n",
    "λ = number of tweets * probability of each tweet "
   ]
  },
  {
   "cell_type": "markdown",
   "metadata": {},
   "source": [
    "### d)"
   ]
  },
  {
   "cell_type": "code",
   "execution_count": 65,
   "metadata": {},
   "outputs": [
    {
     "name": "stdout",
     "output_type": "stream",
     "text": [
      "Lets take alpha as 1/mean_tweet_counts 0.025793650793650796\n"
     ]
    },
    {
     "data": {
      "text/plain": [
       "Text(0, 0.5, '$P(λ)$')"
      ]
     },
     "execution_count": 65,
     "metadata": {},
     "output_type": "execute_result"
    },
    {
     "data": {
      "image/png": "[encoded data removed]",
      "text/plain": [
       "<Figure size 1080x216 with 1 Axes>"
      ]
     },
     "metadata": {
      "needs_background": "light"
     },
     "output_type": "display_data"
    }
   ],
   "source": [
    "#Pictorially prove that as α goes low, the probability of λ goes up.\n",
    "plt.figure(figsize=(15,3))\n",
    "alpha=1.0\n",
    "plt.plot(np.linspace(0,50,50),Exponential(np.linspace(0,50,50),alpha), c='red')\n",
    "alpha=0.6\n",
    "plt.plot(np.linspace(0,50,50),Exponential(np.linspace(0,50,50),alpha),c='pink')\n",
    "alpha=0.4\n",
    "plt.plot(np.linspace(0,50,50),Exponential(np.linspace(0,50,50),alpha),c='green')\n",
    "alpha=0.04\n",
    "plt.plot(np.linspace(0,50,50),Exponential(np.linspace(0,50,50),alpha),c='yellow')\n",
    "alpha=0.03\n",
    "plt.plot(np.linspace(0,50,50),Exponential(np.linspace(0,50,50),alpha),c='orange')\n",
    "print(\"Lets take alpha as 1/mean_tweet_counts\", 1/mean_tweet_counts)\n",
    "alpha=1/mean_tweet_counts #0.04\n",
    "plt.plot(np.linspace(0,50,50),Exponential(np.linspace(0,50,50),alpha),c='blue')\n",
    "plt.xlabel(\"$λ$\",fontsize=15)\n",
    "plt.ylabel(\"$P(λ)$\",fontsize=15)"
   ]
  },
  {
   "cell_type": "markdown",
   "metadata": {},
   "source": [
    "### Notice how the Probability Distribution of Lambda i.e P(λ) changes its shape. α is our a priori belief of how many tweets an average person tweets routinely. The higher the value of α,  the more spread out and smaller the value of λ as well as the distribution for P(λ) is.  This proves the converse relation between λ and α.\n",
    "\n",
    "We can do 2 approaches, \n",
    "\n",
    "First, based on the data, assuming a constant λ, check the value of α, which ends up being 0.025793650793650796. Or we can consider 2 λs.\n",
    "\n"
   ]
  },
  {
   "cell_type": "code",
   "execution_count": 50,
   "metadata": {},
   "outputs": [],
   "source": [
    " def Posterior_tweet(λ_est,tweet_count):\n",
    "        alpha = 1/tweet_count.mean()\n",
    "        \"\"\"\n",
    "        Posterier_tweet gives a probability of getting a certain number of tweets given the\n",
    "        priori information.\n",
    "        \"\"\"\n",
    "        return np.prod(Poisson(tweet_count,λ_est)*Exponential(λ_est,alpha))"
   ]
  },
  {
   "cell_type": "code",
   "execution_count": 51,
   "metadata": {},
   "outputs": [
    {
     "data": {
      "text/plain": [
       "35.714285714285715"
      ]
     },
     "execution_count": 51,
     "metadata": {},
     "output_type": "execute_result"
    }
   ],
   "source": [
    "λ1_est = np.linspace(25,50,50)\n",
    "tw_bfr_w30 = twdf[twdf[\"week\"] <30]\n",
    "\n",
    "P_1=np.array([])\n",
    "for j in λ1_est:\n",
    "    P_1=np.append(P_1,Posterior_tweet(j,tw_bfr_w30[\"count\"]))\n",
    "\n",
    "Posterior_1=P_1/np.trapz(P_1,λ1_est)\n",
    "λ1_mode=λ1_est[np.argmax(Posterior_1)]\n",
    "λ1_mode    \n"
   ]
  },
  {
   "cell_type": "code",
   "execution_count": 52,
   "metadata": {},
   "outputs": [
    {
     "data": {
      "text/plain": [
       "40.816326530612244"
      ]
     },
     "execution_count": 52,
     "metadata": {},
     "output_type": "execute_result"
    }
   ],
   "source": [
    "λ2_est = np.linspace(25,50,50)\n",
    "tw_aft_w30 = twdf[twdf[\"week\"] >= 30]\n",
    "P_2=np.array([])\n",
    "for j in λ2_est:\n",
    "    P_2=np.append(P_2,Posterior_tweet(j,tw_aft_w30[\"count\"]))\n",
    "\n",
    "λ2_mode=λ2_est[np.argmax(Posterior_2)]\n",
    "λ2_mode  "
   ]
  },
  {
   "cell_type": "code",
   "execution_count": 53,
   "metadata": {},
   "outputs": [
    {
     "data": {
      "text/plain": [
       "37.755102040816325"
      ]
     },
     "execution_count": 53,
     "metadata": {},
     "output_type": "execute_result"
    }
   ],
   "source": [
    "#Entire dataset without filtering for weeks\n",
    "λ_est = np.linspace(25,50,50)\n",
    "\n",
    "P_=np.array([])\n",
    "for j in λ_est:\n",
    "    P_=np.append(P_,Posterior_tweet(j,twdf[\"count\"]))\n",
    "\n",
    "#Normalize the output     \n",
    "Posterior=P_/np.trapz(P_,λ_est)\n",
    "λ_mode=λ_est[np.argmax(Posterior)]\n",
    "λ_mode  "
   ]
  },
  {
   "cell_type": "markdown",
   "metadata": {},
   "source": [
    "### e ) Visualizing the data tells us that there is an increase in number of tweets around week 30. So if we want to split the input dataset into 2 dataframes around week 30 and compute 2 averages or λ, we may notice a difference in trending. "
   ]
  },
  {
   "cell_type": "code",
   "execution_count": 63,
   "metadata": {},
   "outputs": [
    {
     "data": {
      "image/png": "[encoded data removed]",
      "text/plain": [
       "<Figure size 576x360 with 1 Axes>"
      ]
     },
     "metadata": {
      "needs_background": "light"
     },
     "output_type": "display_data"
    }
   ],
   "source": [
    "plt.figure(figsize=(8,5))\n",
    "plt.plot(λ1_est,Posterior_1)\n",
    "plt.vlines(λ1_mode,-0.01,0.35,color='red')\n",
    "plt.vlines(λ2_mode,-0.01,0.30,color='red')\n",
    "plt.vlines(λ_mode,-0.01,0.45,color='red')\n",
    "plt.xlabel('$\\lambda1$',fontsize=15)\n",
    "plt.ylabel('$P(λ1|data)$',fontsize=15)\n",
    "plt.plot(λ2_est,Posterior_2)\n",
    "plt.plot(λ_est,Posterior)\n",
    "plt.text(λ1_mode,np.max(Posterior_1),'λ1(mode)={:0.2f}'.format(λ1_mode),fontsize=10)\n",
    "plt.text(λ2_mode,np.max(Posterior_2),'λ2(mode)={:0.2f}'.format(λ2_mode),fontsize=10)\n",
    "plt.text(λ_mode,np.max(Posterior),'λ(mode)={:0.2f}'.format(λ_mode),fontsize=10)\n",
    "plt.show()"
   ]
  },
  {
   "cell_type": "code",
   "execution_count": null,
   "metadata": {},
   "outputs": [],
   "source": [
    "def pois(k,λ):\n",
    "    return (λ**k)*np.exp(-λ)/np.math.factorial(k)\n",
    "\n",
    "def Posterior_tweet_mod(lambda1,lambda2,ws,tweets):\n",
    "        \"\"\"\n",
    "        Changing the posterior to take 3 parameters instead of 1\n",
    "        \"\"\"\n",
    "        P=1\n",
    "        for index, row in tweets.iterrows():\n",
    "            if(row[\"week\"]>=ws):\n",
    "                    #print(\"week >30\", row[\"count\"], lambda2)\n",
    "                    P=P*pois(row[\"count\"],lambda2)*Exponential(lambda2,alpha)\n",
    "            else:\n",
    "                #print(\"week <30\", row[\"count\"], lambda1)\n",
    "                P=P*pois(row[\"count\"],lambda1)*Exponential(lambda1,alpha)\n",
    "        return (P)        \n",
    "                \n",
    "    \n",
    "#lambda combined   \n",
    "λc_est = np.linspace(25,50,50)\n",
    "P_c=np.array([])\n",
    "for j in λc_est:\n",
    "    P_c=np.append(P_c,Posterior_tweet_mod(λ1_mode,λ2_mode,30, twdf))\n",
    "\n",
    "Posterior_c=P_c/np.trapz(P_c,λc_est)\n",
    "λc_mode=λc_est[np.argmax(Posterior_c)]\n",
    "λc_mode    \n",
    "    "
   ]
  },
  {
   "cell_type": "markdown",
   "metadata": {},
   "source": [
    "#### The Lambda with Posterier taking 3 parameters is 25. Does not seem right. Continuing with separate calculations. "
   ]
  },
  {
   "cell_type": "markdown",
   "metadata": {},
   "source": []
  },
  {
   "cell_type": "markdown",
   "metadata": {},
   "source": [
    "### Explanation of the observed behavior:\n"
   ]
  },
  {
   "cell_type": "code",
   "execution_count": 44,
   "metadata": {},
   "outputs": [],
   "source": [
    "import numpy as np\n",
    "h, v = np.meshgrid(np.arange(50)*50, np.arange(50)*50)"
   ]
  },
  {
   "cell_type": "code",
   "execution_count": null,
   "metadata": {},
   "outputs": [],
   "source": []
  }
 ],
 "metadata": {
  "kernelspec": {
   "display_name": "phys247",
   "language": "python",
   "name": "phys247"
  },
  "language_info": {
   "codemirror_mode": {
    "name": "ipython",
    "version": 3
   },
   "file_extension": ".py",
   "mimetype": "text/x-python",
   "name": "python",
   "nbconvert_exporter": "python",
   "pygments_lexer": "ipython3",
   "version": "3.8.2"
  }
 },
 "nbformat": 4,
 "nbformat_minor": 4
}
