{
 "cells": [
  {
   "cell_type": "markdown",
   "metadata": {},
   "source": [
    "## Part a) \n",
    "\n",
    "Let’s start with the given image. If the starting number is 1, then we would say S = 1. Assuming we are to dial a 4-digit number starting from 1, Ω(1) = 1 for any number since we can start from any number. Getting to 2nd digit, we could say from 1 we can either go to 4 or 2. Now let’s break the digits. If we can go to 2 possible positions from 1, the Ω(1,2) = 2\n",
    "With 2 digits covered, we have 2 more left. Building on the same logic\n",
    "Ω(2,2) = 3. Or Ω(4,2) = 3. Both paths lead show the same Omega value\n",
    "\n",
    "If we go with 5 as the next digit, the options would be:\n",
    "Ω(5,2) = 4. (possible next digit is 2, 4, 8 or 6)\n",
    "\n",
    "This is the highest value we can get from the current arrangements of numbers. Beyond this point, any next digit we pick will have an Omega of 3 at-least. If we choose 8 as next hop from 5, we will get Ω(8,2) = 4. Adding all these up will give us the Omega value. \n",
    "\n",
    "Ω(1,4) = 2+3+4+4 = 13\n",
    "\n",
    "Using the matrix which shows the possibility of a path between 2 numbers. \n"
   ]
  },
  {
   "cell_type": "code",
   "execution_count": 22,
   "metadata": {},
   "outputs": [
    {
     "name": "stdout",
     "output_type": "stream",
     "text": [
      "(10, 10)\n"
     ]
    }
   ],
   "source": [
    "import numpy as np\n",
    "a = np.array([\n",
    "    [0, 0, 0, 0, 0, 0, 0, 0, 1, 0],\n",
    "    [0, 0, 1, 0, 1, 0, 0, 0, 0, 0],\n",
    "    [0, 1, 0, 1, 0, 1, 0, 0, 0, 0],\n",
    "    [0, 0, 1, 0, 0, 0, 1, 0, 0, 0],\n",
    "    [0, 1, 0, 0, 0, 1, 0, 1, 0, 0],\n",
    "    [0, 0, 1, 0, 1, 0, 1, 0, 1, 0],\n",
    "    [0, 0, 0, 1, 0, 1, 0, 0, 0, 1],\n",
    "    [0, 0, 0, 0, 1, 0, 0, 0, 1, 0],\n",
    "    [1, 0, 0, 0, 0, 1, 0, 1, 0, 1],\n",
    "    [0, 0, 0, 0, 0, 0, 1, 0, 1, 0]\n",
    "])\n",
    "\n",
    "print(a.shape)"
   ]
  },
  {
   "cell_type": "code",
   "execution_count": 17,
   "metadata": {},
   "outputs": [
    {
     "name": "stdout",
     "output_type": "stream",
     "text": [
      "(10, 1)\n"
     ]
    }
   ],
   "source": [
    "n = np.array([\n",
    "    [1],\n",
    "    [1],\n",
    "    [1], \n",
    "    [1], \n",
    "    [1], \n",
    "    [1], \n",
    "    [1], \n",
    "    [1], \n",
    "    [1], \n",
    "    [1]])#.reshape(1,10)\n",
    "print(n.shape)"
   ]
  },
  {
   "cell_type": "code",
   "execution_count": 22,
   "metadata": {},
   "outputs": [
    {
     "name": "stdout",
     "output_type": "stream",
     "text": [
      "[[1]\n",
      " [2]\n",
      " [3]\n",
      " [2]\n",
      " [3]\n",
      " [4]\n",
      " [3]\n",
      " [2]\n",
      " [4]\n",
      " [2]]\n"
     ]
    }
   ],
   "source": [
    "#1 Ω(N) = A × Ω(1) which means for 2 digit numbers\n",
    "m2 = np.dot(a,n)\n",
    "print(m2)"
   ]
  },
  {
   "cell_type": "code",
   "execution_count": 23,
   "metadata": {},
   "outputs": [
    {
     "name": "stdout",
     "output_type": "stream",
     "text": [
      "[[ 4]\n",
      " [ 6]\n",
      " [ 8]\n",
      " [ 6]\n",
      " [ 8]\n",
      " [13]\n",
      " [ 8]\n",
      " [ 7]\n",
      " [ 9]\n",
      " [ 7]]\n"
     ]
    }
   ],
   "source": [
    "#Ω(N) = A × Ω(2)+ #1\n",
    "m3=np.dot(a,m2)\n",
    "print(m3)"
   ]
  },
  {
   "cell_type": "code",
   "execution_count": 25,
   "metadata": {},
   "outputs": [
    {
     "name": "stdout",
     "output_type": "stream",
     "text": [
      "[[ 9]\n",
      " [16]\n",
      " [25]\n",
      " [16]\n",
      " [26]\n",
      " [33]\n",
      " [26]\n",
      " [17]\n",
      " [31]\n",
      " [17]]\n"
     ]
    }
   ],
   "source": [
    "m4 = np.dot(a,m3)\n",
    "print(m4)"
   ]
  },
  {
   "cell_type": "code",
   "execution_count": 72,
   "metadata": {},
   "outputs": [],
   "source": [
    "import numpy as np\n",
    "def findOmegaPaths(s,n):\n",
    "    \"\"\"\n",
    "    A function to find number of unique n-digit paths on the dial pad for a given number S\n",
    "    \"\"\"\n",
    "    dial_routes = np.array([\n",
    "    [0, 0, 0, 0, 0, 0, 0, 0, 1, 0],\n",
    "    [0, 0, 1, 0, 1, 0, 0, 0, 0, 0],\n",
    "    [0, 1, 0, 1, 0, 1, 0, 0, 0, 0],\n",
    "    [0, 0, 1, 0, 0, 0, 1, 0, 0, 0],\n",
    "    [0, 1, 0, 0, 0, 1, 0, 1, 0, 0],\n",
    "    [0, 0, 1, 0, 1, 0, 1, 0, 1, 0],\n",
    "    [0, 0, 0, 1, 0, 1, 0, 0, 0, 1],\n",
    "    [0, 0, 0, 0, 1, 0, 0, 0, 1, 0],\n",
    "    [1, 0, 0, 0, 0, 1, 0, 1, 0, 1],\n",
    "    [0, 0, 0, 0, 0, 0, 1, 0, 1, 0]])\n",
    "    #Each point can is a digit in itself so if we have to dial 1 digit number, for all numbers 1 path exists\n",
    "    initial_number=np.array([\n",
    "    [1],\n",
    "    [1],\n",
    "    [1], \n",
    "    [1], \n",
    "    [1], \n",
    "    [1], \n",
    "    [1], \n",
    "    [1], \n",
    "    [1], \n",
    "    [1]])\n",
    "    \n",
    "    #implementing A**(n-1) \n",
    "    paths=np.dot(dial_routes,dial_routes)\n",
    "    for i in range(n-2):\n",
    "        print(i,\"th iteration\")\n",
    "        paths=np.dot(paths,dial_routes)\n",
    "    #Multiplying with Ω(1)\n",
    "    routes=np.dot(paths,initial_number)\n",
    "    res = routes.T[0].tolist()[s-1]\n",
    "    return(res)"
   ]
  },
  {
   "cell_type": "code",
   "execution_count": 73,
   "metadata": {},
   "outputs": [
    {
     "name": "stdout",
     "output_type": "stream",
     "text": [
      "0 th iteration\n",
      "1 th iteration\n",
      "2 th iteration\n",
      "3 th iteration\n",
      "4 th iteration\n",
      "5 th iteration\n",
      "6 th iteration\n",
      "7 th iteration\n",
      "61390\n"
     ]
    }
   ],
   "source": [
    "om = findOmegaPaths(5,10)\n",
    "print (om)"
   ]
  },
  {
   "cell_type": "markdown",
   "metadata": {},
   "source": [
    "## Part c) \n",
    "Lets transpose A and try to compare the original and the transpose"
   ]
  },
  {
   "cell_type": "code",
   "execution_count": 42,
   "metadata": {},
   "outputs": [],
   "source": [
    "def compareMatrices(A,B):\n",
    "    \"\"\"\n",
    "    This function takes 2 matrices and compares them element wise to determine equality\n",
    "    \"\"\"\n",
    "    ##If the shape of the matrices is different there is no need to compare\n",
    "    #they are already unequal\n",
    "    if (A.shape == Atrans.shape):\n",
    "        print(\"Matrices have same shape\")\n",
    "        if(A.all()==B.all()):\n",
    "            return True\n",
    "        else:\n",
    "            return False\n",
    "    else:\n",
    "        print(\"cant compare matrices\")\n",
    "        return False\n",
    "    "
   ]
  },
  {
   "cell_type": "code",
   "execution_count": 44,
   "metadata": {},
   "outputs": [
    {
     "name": "stdout",
     "output_type": "stream",
     "text": [
      "Matrices have same shape\n",
      "Comparing similarity of matrices shows  True\n"
     ]
    }
   ],
   "source": [
    "A = np.matrix(a)\n",
    "Atrans = A.T\n",
    "are_matrices_same = compareMatrices(A, Atrans)\n",
    "print(\"Comparing similarity of matrices shows \",are_matrices_same)"
   ]
  },
  {
   "cell_type": "markdown",
   "metadata": {},
   "source": [
    "### As to whether did I expect the matrix and its transpose to be equal, the answer is yes, the reason is, if there is a path from 0->8, then there is a path from 8->0 as well. This is a non-directional problem. Hence the matrix and its transpose would be identical\n"
   ]
  },
  {
   "cell_type": "code",
   "execution_count": null,
   "metadata": {},
   "outputs": [],
   "source": []
  }
 ],
 "metadata": {
  "kernelspec": {
   "display_name": "phys247",
   "language": "python",
   "name": "phys247"
  },
  "language_info": {
   "codemirror_mode": {
    "name": "ipython",
    "version": 3
   },
   "file_extension": ".py",
   "mimetype": "text/x-python",
   "name": "python",
   "nbconvert_exporter": "python",
   "pygments_lexer": "ipython3",
   "version": "3.8.2"
  }
 },
 "nbformat": 4,
 "nbformat_minor": 4
}
