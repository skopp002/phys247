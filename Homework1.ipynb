{
 "cells": [
  {
   "cell_type": "markdown",
   "metadata": {},
   "source": [
    "Part a) \n",
    "\n",
    "Let’s start with the given image. If the starting number is 1, then we would say S = 1. Assuming we are to dial a 4-digit number starting from 1, Ω(1) = 1 for any number since we can start from any number. Getting to 2nd digit, we could say from 1 we can either go to 4 or 2. Now let’s break the digits. If we can go to 2 possible positions from 1, the Ω(1,2) = 2\n",
    "With 2 digits covered, we have 8 more left. Building on the same logic\n",
    "Ω(2,2) = 3. Or Ω(4,2) = 3. Both paths lead show the same Omega value\n",
    "\n",
    "If we go with 5 as the next digit, the options would be:\n",
    "Ω(5,2) = 4. (possible next digit is 2, 4, 8 or 6)\n",
    "\n",
    "This is the highest value we can get from the current arrangements of numbers. Beyond this point, we any next digit we pick will have an Omega of 3 at-least. If we choose 8 as next hop from 5, we will get Ω(8,2) = 4. Adding all these up will give us the Omega value. \n",
    "\n",
    "Ω(1,4) = 2+3+4+4 = 13\n",
    "\n",
    "Using the matrix which shows the possibility of a path between 2 numbers. \n"
   ]
  },
  {
   "cell_type": "code",
   "execution_count": 15,
   "metadata": {},
   "outputs": [
    {
     "name": "stdout",
     "output_type": "stream",
     "text": [
      "(10, 10)\n"
     ]
    }
   ],
   "source": [
    "import numpy as np\n",
    "a = np.array([\n",
    "    [0, 0, 0, 0, 0, 0, 0, 0, 1, 0],\n",
    "    [0, 0, 1, 0, 1, 0, 0, 0, 0, 0],\n",
    "    [0, 1, 0, 1, 0, 1, 0, 0, 0, 0],\n",
    "    [0, 0, 1, 0, 0, 0, 1, 0, 0, 0],\n",
    "    [0, 1, 0, 0, 0, 1, 0, 1, 0, 0],\n",
    "    [0, 0, 1, 0, 1, 0, 1, 0, 1, 0],\n",
    "    [0, 0, 0, 1, 0, 1, 0, 0, 0, 1],\n",
    "    [0, 0, 0, 0, 1, 0, 0, 0, 1, 0],\n",
    "    [1, 0, 0, 0, 0, 1, 0, 1, 0, 1],\n",
    "    [0, 0, 0, 0, 0, 0, 1, 0, 1, 0]\n",
    "])\n",
    "\n",
    "print(a.shape)"
   ]
  },
  {
   "cell_type": "code",
   "execution_count": 17,
   "metadata": {},
   "outputs": [
    {
     "name": "stdout",
     "output_type": "stream",
     "text": [
      "(10, 1)\n"
     ]
    }
   ],
   "source": [
    "n = np.array([\n",
    "    [1],\n",
    "    [1],\n",
    "    [1], \n",
    "    [1], \n",
    "    [1], \n",
    "    [1], \n",
    "    [1], \n",
    "    [1], \n",
    "    [1], \n",
    "    [1]])#.reshape(1,10)\n",
    "print(n.shape)"
   ]
  },
  {
   "cell_type": "code",
   "execution_count": 22,
   "metadata": {},
   "outputs": [
    {
     "name": "stdout",
     "output_type": "stream",
     "text": [
      "[[1]\n",
      " [2]\n",
      " [3]\n",
      " [2]\n",
      " [3]\n",
      " [4]\n",
      " [3]\n",
      " [2]\n",
      " [4]\n",
      " [2]]\n"
     ]
    }
   ],
   "source": [
    "#1 Ω(N) = A × Ω(1)\n",
    "m2 = np.dot(a,n)\n",
    "print(m2)"
   ]
  },
  {
   "cell_type": "code",
   "execution_count": 23,
   "metadata": {},
   "outputs": [
    {
     "name": "stdout",
     "output_type": "stream",
     "text": [
      "[[ 4]\n",
      " [ 6]\n",
      " [ 8]\n",
      " [ 6]\n",
      " [ 8]\n",
      " [13]\n",
      " [ 8]\n",
      " [ 7]\n",
      " [ 9]\n",
      " [ 7]]\n"
     ]
    }
   ],
   "source": [
    "#Ω(N) = A × Ω(2)+ #1\n",
    "m3=np.dot(a,m2)\n",
    "print(m3)"
   ]
  },
  {
   "cell_type": "code",
   "execution_count": 25,
   "metadata": {},
   "outputs": [
    {
     "name": "stdout",
     "output_type": "stream",
     "text": [
      "[[ 9]\n",
      " [16]\n",
      " [25]\n",
      " [16]\n",
      " [26]\n",
      " [33]\n",
      " [26]\n",
      " [17]\n",
      " [31]\n",
      " [17]]\n"
     ]
    }
   ],
   "source": [
    "m4 = np.dot(a,m3)\n",
    "print(m4)"
   ]
  },
  {
   "cell_type": "code",
   "execution_count": null,
   "metadata": {},
   "outputs": [],
   "source": []
  }
 ],
 "metadata": {
  "kernelspec": {
   "display_name": "phys247",
   "language": "python",
   "name": "phys247"
  },
  "language_info": {
   "codemirror_mode": {
    "name": "ipython",
    "version": 3
   },
   "file_extension": ".py",
   "mimetype": "text/x-python",
   "name": "python",
   "nbconvert_exporter": "python",
   "pygments_lexer": "ipython3",
   "version": "3.8.2"
  }
 },
 "nbformat": 4,
 "nbformat_minor": 4
}
