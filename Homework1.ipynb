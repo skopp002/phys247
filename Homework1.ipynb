{
 "cells": [
  {
   "cell_type": "markdown",
   "metadata": {},
   "source": [
    "## Part a and b) \n",
    "\n",
    "Let’s start with the given image. If the starting number is 1, then we would say S = 1. Assuming we are to dial a 4-digit number starting from 1, Ω(1) = 1 for any number since we can start from any number. Getting to 2nd digit, we could say from 1 we can either go to 4 or 2. Now let’s break the digits. If we can go to 2 possible positions from 1, the Ω(1,2) = 2\n",
    "With 2 digits covered, we have 2 more left. Building on the same logic\n",
    "Ω(2,2) = 3. Or Ω(4,2) = 3. Both paths lead show the same Omega value\n",
    "\n",
    "If we go with 5 as the next digit, the options would be:\n",
    "Ω(5,2) = 4. (possible next digit is 2, 4, 8 or 6)\n",
    "\n",
    "This is the highest value we can get from the current arrangements of numbers. Beyond this point, any next digit we pick will have an Omega of 3 at-least. If we choose 8 as next hop from 5, we will get Ω(8,2) = 4. Adding all these up will give us the Omega value. \n",
    "\n",
    "Ω(1,4) = 2+3+4+4 = 13\n",
    "\n",
    "Using the matrix which shows the possibility of a path between 2 numbers. \n"
   ]
  },
  {
   "cell_type": "code",
   "execution_count": 22,
   "metadata": {},
   "outputs": [
    {
     "name": "stdout",
     "output_type": "stream",
     "text": [
      "(10, 10)\n"
     ]
    }
   ],
   "source": [
    "import numpy as np\n",
    "a = np.array([\n",
    "    [0, 0, 0, 0, 0, 0, 0, 0, 1, 0],\n",
    "    [0, 0, 1, 0, 1, 0, 0, 0, 0, 0],\n",
    "    [0, 1, 0, 1, 0, 1, 0, 0, 0, 0],\n",
    "    [0, 0, 1, 0, 0, 0, 1, 0, 0, 0],\n",
    "    [0, 1, 0, 0, 0, 1, 0, 1, 0, 0],\n",
    "    [0, 0, 1, 0, 1, 0, 1, 0, 1, 0],\n",
    "    [0, 0, 0, 1, 0, 1, 0, 0, 0, 1],\n",
    "    [0, 0, 0, 0, 1, 0, 0, 0, 1, 0],\n",
    "    [1, 0, 0, 0, 0, 1, 0, 1, 0, 1],\n",
    "    [0, 0, 0, 0, 0, 0, 1, 0, 1, 0]\n",
    "])\n",
    "\n",
    "print(a.shape)"
   ]
  },
  {
   "cell_type": "code",
   "execution_count": 17,
   "metadata": {},
   "outputs": [
    {
     "name": "stdout",
     "output_type": "stream",
     "text": [
      "(10, 1)\n"
     ]
    }
   ],
   "source": [
    "n = np.array([\n",
    "    [1],\n",
    "    [1],\n",
    "    [1], \n",
    "    [1], \n",
    "    [1], \n",
    "    [1], \n",
    "    [1], \n",
    "    [1], \n",
    "    [1], \n",
    "    [1]])#.reshape(1,10)\n",
    "print(n.shape)"
   ]
  },
  {
   "cell_type": "code",
   "execution_count": 22,
   "metadata": {},
   "outputs": [
    {
     "name": "stdout",
     "output_type": "stream",
     "text": [
      "[[1]\n",
      " [2]\n",
      " [3]\n",
      " [2]\n",
      " [3]\n",
      " [4]\n",
      " [3]\n",
      " [2]\n",
      " [4]\n",
      " [2]]\n"
     ]
    }
   ],
   "source": [
    "#1 Ω(N) = A × Ω(1) which means for 2 digit numbers\n",
    "m2 = np.dot(a,n)\n",
    "print(m2)"
   ]
  },
  {
   "cell_type": "code",
   "execution_count": 23,
   "metadata": {},
   "outputs": [
    {
     "name": "stdout",
     "output_type": "stream",
     "text": [
      "[[ 4]\n",
      " [ 6]\n",
      " [ 8]\n",
      " [ 6]\n",
      " [ 8]\n",
      " [13]\n",
      " [ 8]\n",
      " [ 7]\n",
      " [ 9]\n",
      " [ 7]]\n"
     ]
    }
   ],
   "source": [
    "#Ω(N) = A × Ω(2)+ #1\n",
    "m3=np.dot(a,m2)\n",
    "print(m3)"
   ]
  },
  {
   "cell_type": "code",
   "execution_count": 25,
   "metadata": {},
   "outputs": [
    {
     "name": "stdout",
     "output_type": "stream",
     "text": [
      "[[ 9]\n",
      " [16]\n",
      " [25]\n",
      " [16]\n",
      " [26]\n",
      " [33]\n",
      " [26]\n",
      " [17]\n",
      " [31]\n",
      " [17]]\n"
     ]
    }
   ],
   "source": [
    "m4 = np.dot(a,m3)\n",
    "print(m4)"
   ]
  },
  {
   "cell_type": "markdown",
   "metadata": {},
   "source": [
    "## Part c) \n",
    "Lets transpose A and try to compare the original and the transpose"
   ]
  },
  {
   "cell_type": "code",
   "execution_count": 42,
   "metadata": {},
   "outputs": [],
   "source": [
    "def compareMatrices(A,B):\n",
    "    \"\"\"\n",
    "    This function takes 2 matrices and compares them element wise to determine equality\n",
    "    \"\"\"\n",
    "    ##If the shape of the matrices is different there is no need to compare\n",
    "    #they are already unequal\n",
    "    if (A.shape == Atrans.shape):\n",
    "        print(\"Matrices have same shape\")\n",
    "        if(A.all()==B.all()):\n",
    "            return True\n",
    "        else:\n",
    "            return False\n",
    "    else:\n",
    "        print(\"cant compare matrices\")\n",
    "        return False\n",
    "    "
   ]
  },
  {
   "cell_type": "code",
   "execution_count": 44,
   "metadata": {},
   "outputs": [
    {
     "name": "stdout",
     "output_type": "stream",
     "text": [
      "Matrices have same shape\n",
      "Comparing similarity of matrices shows  True\n"
     ]
    }
   ],
   "source": [
    "A = np.matrix(a)\n",
    "Atrans = A.T\n",
    "are_matrices_same = compareMatrices(A, Atrans)\n",
    "print(\"Comparing similarity of matrices shows \",are_matrices_same)"
   ]
  },
  {
   "cell_type": "markdown",
   "metadata": {},
   "source": [
    "### As to whether did I expect the matrix and its transpose to be equal, the answer is yes, the reason is, if there is a path from 0->8, then there is a path from 8->0 as well. This is a non-directional problem. Hence the matrix and its transpose would be identical\n"
   ]
  },
  {
   "cell_type": "markdown",
   "metadata": {},
   "source": [
    "## Part d) - Defining Dialer_Problem Method"
   ]
  },
  {
   "cell_type": "code",
   "execution_count": null,
   "metadata": {},
   "outputs": [],
   "source": [
    "import numpy as np\n",
    "def Dialer_Problem(s,n):\n",
    "    \"\"\"\n",
    "    A function to find number of unique n-digit paths on the dial pad for a given number S\n",
    "    \"\"\"\n",
    "    dial_routes = np.array([\n",
    "    [0, 0, 0, 0, 0, 0, 0, 0, 1, 0],\n",
    "    [0, 0, 1, 0, 1, 0, 0, 0, 0, 0],\n",
    "    [0, 1, 0, 1, 0, 1, 0, 0, 0, 0],\n",
    "    [0, 0, 1, 0, 0, 0, 1, 0, 0, 0],\n",
    "    [0, 1, 0, 0, 0, 1, 0, 1, 0, 0],\n",
    "    [0, 0, 1, 0, 1, 0, 1, 0, 1, 0],\n",
    "    [0, 0, 0, 1, 0, 1, 0, 0, 0, 1],\n",
    "    [0, 0, 0, 0, 1, 0, 0, 0, 1, 0],\n",
    "    [1, 0, 0, 0, 0, 1, 0, 1, 0, 1],\n",
    "    [0, 0, 0, 0, 0, 0, 1, 0, 1, 0]])\n",
    "    #Each point can is a digit in itself so if we have to dial 1 digit number, for all numbers 1 path exists\n",
    "    initial_number=np.array([\n",
    "    [1],\n",
    "    [1],\n",
    "    [1], \n",
    "    [1], \n",
    "    [1], \n",
    "    [1], \n",
    "    [1], \n",
    "    [1], \n",
    "    [1], \n",
    "    [1]])\n",
    "    \n",
    "    #implementing A**(n-1). Since we multiplied with A already, in the for loop we will \n",
    "    #only loop for n-2 times. \n",
    "    paths=np.dot(dial_routes,initial_number)\n",
    "    for i in range(n-2):\n",
    "        paths=np.dot(dial_routes,paths)\n",
    "    res = paths.T[0].tolist()[s]\n",
    "    return(res)"
   ]
  },
  {
   "cell_type": "code",
   "execution_count": 98,
   "metadata": {},
   "outputs": [
    {
     "name": "stdout",
     "output_type": "stream",
     "text": [
      "18713\n",
      "--- 0.00012993812561035156 seconds ---\n"
     ]
    }
   ],
   "source": [
    "import time\n",
    "start_time = time.time()\n",
    "routes = Dialer_Problem(5,10)\n",
    "end_time = time.time()\n",
    "print (routes)\n",
    "print(\"--- %s seconds ---\" % (end_time - start_time))"
   ]
  },
  {
   "cell_type": "markdown",
   "metadata": {},
   "source": [
    "## part e) Rewrite without numpy package"
   ]
  },
  {
   "cell_type": "code",
   "execution_count": 96,
   "metadata": {},
   "outputs": [],
   "source": [
    "def matmul(A,B):\n",
    "    \"\"\"\n",
    "    A function which computes matrix multiplication of the first \n",
    "    and second inputs. Inputs should be list-like.\n",
    "    \"\"\"\n",
    "    \n",
    "    if len(A[0])==len(B):\n",
    "        R=[[sum(x*y for x,y in zip(A_row,B_col)) for B_col in zip(*B)] for A_row in A]\n",
    "        return R\n",
    "    else: \n",
    "        print('Matrix dimensions do not match')\n",
    "        \n",
    "        \n",
    "\n",
    "def Dialer_Problem_no_numpy(s,n):\n",
    "    \"\"\"\n",
    "    A function to find number of unique n-digit paths on the dial pad for a given number S\n",
    "    \"\"\"\n",
    "    dial_routes = [\n",
    "    [0, 0, 0, 0, 0, 0, 0, 0, 1, 0],\n",
    "    [0, 0, 1, 0, 1, 0, 0, 0, 0, 0],\n",
    "    [0, 1, 0, 1, 0, 1, 0, 0, 0, 0],\n",
    "    [0, 0, 1, 0, 0, 0, 1, 0, 0, 0],\n",
    "    [0, 1, 0, 0, 0, 1, 0, 1, 0, 0],\n",
    "    [0, 0, 1, 0, 1, 0, 1, 0, 1, 0],\n",
    "    [0, 0, 0, 1, 0, 1, 0, 0, 0, 1],\n",
    "    [0, 0, 0, 0, 1, 0, 0, 0, 1, 0],\n",
    "    [1, 0, 0, 0, 0, 1, 0, 1, 0, 1],\n",
    "    [0, 0, 0, 0, 0, 0, 1, 0, 1, 0]]\n",
    "    #Each point can is a digit in itself so if we have to dial 1 digit number, for all numbers 1 path exists\n",
    "    initial_number=[\n",
    "    [1],\n",
    "    [1],\n",
    "    [1], \n",
    "    [1], \n",
    "    [1], \n",
    "    [1], \n",
    "    [1], \n",
    "    [1], \n",
    "    [1], \n",
    "    [1]]\n",
    "    \n",
    "    #implementing A**(n-1). Since we multiplied with A already, in the for loop we will \n",
    "    #only loop for n-2 times. \n",
    "    paths=matmul(dial_routes,initial_number)\n",
    "    for i in range(n-2):\n",
    "        paths=matmul(dial_routes,paths)  \n",
    "    res = paths[s][0]\n",
    "    return(res)"
   ]
  },
  {
   "cell_type": "code",
   "execution_count": 99,
   "metadata": {},
   "outputs": [
    {
     "name": "stdout",
     "output_type": "stream",
     "text": [
      "18713\n",
      "--- 0.0006110668182373047 seconds ---\n"
     ]
    }
   ],
   "source": [
    "import time\n",
    "start_time = time.time()\n",
    "routes = Dialer_Problem_no_numpy(5,10)\n",
    "end_time = time.time()\n",
    "print (routes)\n",
    "print(\"--- %s seconds ---\" % (end_time - start_time))"
   ]
  },
  {
   "cell_type": "markdown",
   "metadata": {},
   "source": [
    "## part f) Lets plot the performance with and without numpy"
   ]
  },
  {
   "cell_type": "code",
   "execution_count": 135,
   "metadata": {},
   "outputs": [
    {
     "name": "stdout",
     "output_type": "stream",
     "text": [
      "n1 [0, 100, 200, 300, 400, 500, 600, 700, 800, 900]\n",
      "n2 [4.8160552978515625e-05, 0.0007989406585693359, 0.0007810592651367188, 0.0004150867462158203, 0.0005502700805664062, 0.0006008148193359375, 0.0006687641143798828, 0.0007679462432861328, 0.0009019374847412109, 0.0010008811950683594]\n"
     ]
    },
    {
     "name": "stderr",
     "output_type": "stream",
     "text": [
      "<ipython-input-96-bd466e1844a7>:8: RuntimeWarning: overflow encountered in long_scalars\n",
      "  R=[[sum(x*y for x,y in zip(A_row,B_col)) for B_col in zip(*B)] for A_row in A]\n"
     ]
    },
    {
     "data": {
      "image/png": "[encoded data removed]",
      "text/plain": [
       "<Figure size 576x576 with 1 Axes>"
      ]
     },
     "metadata": {
      "needs_background": "light"
     },
     "output_type": "display_data"
    }
   ],
   "source": [
    "import matplotlib.pyplot as plt\n",
    "def performancechart():\n",
    "    #n = numpy based and m = manual\n",
    "    n1=[]\n",
    "    m1=[]\n",
    "    n2=[]\n",
    "    m2=[]\n",
    "    for i in range(0,1000,100):\n",
    "        nstart=time.time()\n",
    "        Dialer_Problem(5,i)\n",
    "        nend=time.time()\n",
    "        n1.append(i)\n",
    "        n2.append(nend - nstart)\n",
    "        mstart=time.time()\n",
    "        Dialer_Problem_no_numpy(5,i)\n",
    "        mend=time.time()\n",
    "        m1.append(i)\n",
    "        m2.append(mend - mstart)\n",
    "    return (n1,n2, m1, m2)    \n",
    "\n",
    "print(\"n1\",n1)\n",
    "print(\"n2\",n2)\n",
    "(n1,n2,m1,m2) = performancechart()\n",
    "\n",
    "N=range(0,1000,100)\n",
    "plt.figure(figsize=(8,8))\n",
    "plt.plot(N,n2,c='darkred',label=\"Using Numpy\")\n",
    "plt.plot(N,m2,c='darkblue',label=\"Not Using Numpy\")\n",
    "plt.xlabel('N', fontsize=15)\n",
    "plt.ylabel('Time Taken (secs)', fontsize=15)\n",
    "plt.legend(fontsize=15)\n",
    "plt.xticks(fontsize=13)\n",
    "plt.yticks(fontsize=13)  \n",
    "plt.show()"
   ]
  },
  {
   "cell_type": "markdown",
   "metadata": {},
   "source": [
    "## part g) Extrapolation for N = 10 ** 7 could take 500 secs\n",
    "\n",
    "Without using Numpy we have an linear increase. Which means, as N grows, proportionally time taken goes up. \n",
    "With this calculation, to dial a 10 ** 7 digit, we would take  500 secs\n"
   ]
  },
  {
   "cell_type": "markdown",
   "metadata": {},
   "source": [
    "## part h & i) Rebuilding using Algorithm that leverages binary instead of decimal number\n"
   ]
  },
  {
   "cell_type": "code",
   "execution_count": 6,
   "metadata": {},
   "outputs": [],
   "source": [
    "def matmul(A,B):\n",
    "    \"\"\"\n",
    "    A function which computes matrix multiplication of the first \n",
    "    and second inputs. Inputs should be list-like.\n",
    "    \"\"\"\n",
    "    \n",
    "    if len(A[0])==len(B):\n",
    "        R=[[sum(x*y for x,y in zip(A_row,B_col)) for B_col in zip(*B)] for A_row in A]\n",
    "        return R\n",
    "    else: \n",
    "        print('Matrix dimensions do not match')\n",
    "        \n",
    "        \n",
    "def decimalToBin(number):\n",
    "    if number == 0:\n",
    "        return '0'\n",
    "    else:\n",
    "        binary=str(number%2)\n",
    "        return (str(decimalToBin(number//2)) + binary) \n",
    "\n",
    "        \n",
    "\n",
    "def Dialer_Problem_with_binary(s,n):\n",
    "    \"\"\"\n",
    "    A function to find number of unique n-digit paths on the dial pad for a given number S\n",
    "    \"\"\"\n",
    "    dial_routes = [\n",
    "    [0, 0, 0, 0, 0, 0, 0, 0, 1, 0],\n",
    "    [0, 0, 1, 0, 1, 0, 0, 0, 0, 0],\n",
    "    [0, 1, 0, 1, 0, 1, 0, 0, 0, 0],\n",
    "    [0, 0, 1, 0, 0, 0, 1, 0, 0, 0],\n",
    "    [0, 1, 0, 0, 0, 1, 0, 1, 0, 0],\n",
    "    [0, 0, 1, 0, 1, 0, 1, 0, 1, 0],\n",
    "    [0, 0, 0, 1, 0, 1, 0, 0, 0, 1],\n",
    "    [0, 0, 0, 0, 1, 0, 0, 0, 1, 0],\n",
    "    [1, 0, 0, 0, 0, 1, 0, 1, 0, 1],\n",
    "    [0, 0, 0, 0, 0, 0, 1, 0, 1, 0]]\n",
    "    #Each point can is a digit in itself so if we have to dial 1 digit number, for all numbers 1 path exists\n",
    "    initial_number=[\n",
    "    [1],\n",
    "    [1],\n",
    "    [1], \n",
    "    [1], \n",
    "    [1], \n",
    "    [1], \n",
    "    [1], \n",
    "    [1], \n",
    "    [1], \n",
    "    [1]]\n",
    "    \n",
    "    #Lets compute the binary value for n provided\n",
    "    bin_n= decimalToBin(n)\n",
    "    ind=len(bin_n)\n",
    "    paths=dial_routes\n",
    "\n",
    "    for i in range(0,ind):\n",
    "            if(i==0):\n",
    "                paths=matmul(dial_routes,paths)\n",
    "            else:\n",
    "                paths=matmul(paths,paths)\n",
    "    paths = matmul(dial_routes,initial_number)\n",
    "    res = paths[s][0]\n",
    "    return(res)"
   ]
  },
  {
   "cell_type": "code",
   "execution_count": null,
   "metadata": {},
   "outputs": [],
   "source": [
    "#Testing binary implementation\n",
    "print(len(decimalToBin(3)))\n",
    "\n",
    "import time\n",
    "start_time = time.time()\n",
    "routes = Dialer_Problem_with_binary(5,10)\n",
    "end_time = time.time()\n",
    "print (routes)\n",
    "print(\"--- %s seconds ---\" % (end_time - start_time))"
   ]
  },
  {
   "cell_type": "markdown",
   "metadata": {},
   "source": [
    "# Problem 2 - Dimensionality Reduction\n",
    "\n",
    "### 2a) Covariance Matrix for D"
   ]
  },
  {
   "cell_type": "code",
   "execution_count": 163,
   "metadata": {},
   "outputs": [
    {
     "name": "stderr",
     "output_type": "stream",
     "text": [
      "No handles with labels found to put in legend.\n"
     ]
    },
    {
     "name": "stdout",
     "output_type": "stream",
     "text": [
      "dt[0] [ 1.72 -0.58  1.99  1.6   2.72  2.83  5.95  4.75  5.57  9.82]\n",
      "dt[1] [0.1  0.31 1.54 4.97 2.43 3.59 7.71 7.63 5.6  7.91]\n"
     ]
    },
    {
     "data": {
      "image/png": "[encoded data removed]",
      "text/plain": [
       "<Figure size 576x576 with 1 Axes>"
      ]
     },
     "metadata": {
      "needs_background": "light"
     },
     "output_type": "display_data"
    }
   ],
   "source": [
    "import numpy as np\n",
    "D = np.array([[1.72,0.10],[-0.58,0.31],[1.99,1.54],\n",
    "              [1.60,4.97],[2.72,2.43],[2.83,3.59],\n",
    "              [5.95,7.71],[4.75,7.63],[5.57,5.60],\n",
    "              [9.82,7.91]])\n",
    "\n",
    "#Transposing to align features.\n",
    "dt = D.T\n",
    "print(\"dt[0]\",dt[0])\n",
    "print(\"dt[1]\",dt[1])\n",
    "x=np.linspace(-1,1,10)\n",
    "plt.figure(figsize=(8,8))\n",
    "plt.scatter(dt[0],dt[1],edgecolors='k',alpha=0.75,s=150)\n",
    "plt.grid(True)\n",
    "plt.xlabel('f1', fontsize=15)\n",
    "plt.ylabel('f2', fontsize=15)\n",
    "plt.legend(fontsize=15)\n",
    "plt.xticks(fontsize=13)\n",
    "plt.yticks(fontsize=13)  \n",
    "plt.show()\n"
   ]
  },
  {
   "cell_type": "markdown",
   "metadata": {},
   "source": [
    "### 2b) Finding Eigen Vector and Eigen Values"
   ]
  },
  {
   "cell_type": "code",
   "execution_count": 164,
   "metadata": {},
   "outputs": [
    {
     "name": "stdout",
     "output_type": "stream",
     "text": [
      "2 (2, 2)\n"
     ]
    }
   ],
   "source": [
    "from numpy import linalg as LA\n",
    "covd = np.cov(dt)\n",
    "covd.shape\n",
    "\n",
    "#Here w is the eigen value and v is an array of eigen vectors\n",
    "w, v = LA.eig(covd)\n",
    "print(len(v), v.shape)\n"
   ]
  },
  {
   "cell_type": "markdown",
   "metadata": {},
   "source": [
    "### 2c) Dot product of matrix and Eigen vector to perform PCA"
   ]
  },
  {
   "cell_type": "code",
   "execution_count": 165,
   "metadata": {},
   "outputs": [
    {
     "name": "stdout",
     "output_type": "stream",
     "text": [
      "[-0.71905385  0.69495436]\n",
      "[-0.69495436 -0.71905385]\n"
     ]
    },
    {
     "data": {
      "image/png": "[encoded data removed]",
      "text/plain": [
       "<Figure size 432x288 with 1 Axes>"
      ]
     },
     "metadata": {
      "needs_background": "light"
     },
     "output_type": "display_data"
    }
   ],
   "source": [
    "import matplotlib.pyplot as plt\n",
    "\n",
    "pcaD = np.dot(D,v)\n",
    "origin = [0, 0]\n",
    "eig_vec1 = v[:,0]\n",
    "eig_vec2 = v[:,1]\n",
    "\n",
    "print(eig_vec1)\n",
    "print(eig_vec2)\n",
    "\n",
    "\n",
    "# This line below plots the 2d points\n",
    "plt.scatter(pcaD[:,0], pcaD[:,1])\n",
    "\n",
    "plt.quiver(*origin, *eig_vec1, color=['r'], scale=21)\n",
    "plt.quiver(*origin, *eig_vec2, color=['b'], scale=21)\n",
    "plt.show()\n"
   ]
  },
  {
   "cell_type": "code",
   "execution_count": 153,
   "metadata": {},
   "outputs": [
    {
     "data": {
      "image/png": "[encoded data removed]",
      "text/plain": [
       "<Figure size 432x288 with 1 Axes>"
      ]
     },
     "metadata": {
      "needs_background": "light"
     },
     "output_type": "display_data"
    }
   ],
   "source": [
    "x=np.linspace(0,1,10)\n",
    "plt.plot(x,pcaD)\n",
    "plt.show()"
   ]
  },
  {
   "cell_type": "markdown",
   "metadata": {},
   "source": [
    "## Attempting the same with sklearn"
   ]
  },
  {
   "cell_type": "code",
   "execution_count": 166,
   "metadata": {},
   "outputs": [
    {
     "name": "stdout",
     "output_type": "stream",
     "text": [
      "      x     y\n",
      "0  1.72  0.10\n",
      "1 -0.58  0.31\n",
      "2  1.99  1.54\n",
      "3  1.60  4.97\n",
      "4  2.72  2.43\n",
      "5  2.83  3.59\n",
      "6  5.95  7.71\n",
      "7  4.75  7.63\n",
      "8  5.57  5.60\n",
      "9  9.82  7.91\n"
     ]
    }
   ],
   "source": [
    "import pandas as pd\n",
    "import numpy as np\n",
    "from sklearn.decomposition import PCA\n",
    "import matplotlib.pyplot as plt\n",
    "\n",
    "df=pd.DataFrame(data=D[0:,0:], columns=[\"x\",\"y\"])\n",
    "print(df)"
   ]
  },
  {
   "cell_type": "code",
   "execution_count": null,
   "metadata": {},
   "outputs": [],
   "source": [
    "#A principal component is the one with maximum variance. To find that, we need to find the mean \n",
    "#for each feature and compute the standard variance. That is accomplished by sklearn's preprocessing\n",
    "\n",
    "scaleD = preprocessing.scale(D.T)\n",
    "pca=PCA()\n",
    "pca.fit(scaleD)\n",
    "pca_data=pca.transform(scaleD)"
   ]
  }
 ],
 "metadata": {
  "kernelspec": {
   "display_name": "phys247",
   "language": "python",
   "name": "phys247"
  },
  "language_info": {
   "codemirror_mode": {
    "name": "ipython",
    "version": 3
   },
   "file_extension": ".py",
   "mimetype": "text/x-python",
   "name": "python",
   "nbconvert_exporter": "python",
   "pygments_lexer": "ipython3",
   "version": "3.8.2"
  }
 },
 "nbformat": 4,
 "nbformat_minor": 4
}
